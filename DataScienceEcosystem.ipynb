{
 "cells": [
  {
   "cell_type": "markdown",
   "id": "6bac177f-6df5-4750-99bb-7a57130a0cf7",
   "metadata": {},
   "source": [
    "# Data Science Tools and Ecosystem"
   ]
  },
  {
   "cell_type": "markdown",
   "id": "5e575041-facf-4495-914e-b1dcc088637f",
   "metadata": {
    "tags": []
   },
   "source": [
    "In this notebook, Data Science Tools and Ecosystem are summarized."
   ]
  },
  {
   "cell_type": "markdown",
   "id": "b113ba0c-bc7c-40af-870c-ae7311ab58ee",
   "metadata": {},
   "source": [
    "Objectives:\n",
    "* Summarise Data Science Tools and Ecosystem\n",
    "* List popular languages for Data Science\n",
    "* List commonly used libraries used by Data Scientists"
   ]
  },
  {
   "cell_type": "markdown",
   "id": "8ba270a3-6f5c-40d4-b3f8-ef1c5636aa74",
   "metadata": {
    "tags": []
   },
   "source": [
    "Some of the popular languages that Data Scientists use are:\n",
    "1. Python\n",
    "2. R\n",
    "3. Scala"
   ]
  },
  {
   "cell_type": "markdown",
   "id": "d54afebe-1727-481c-a06b-2a076eb9c5d3",
   "metadata": {
    "tags": []
   },
   "source": [
    "Some of the commonly used libraries used by Data Scientists include:\n",
    "1. Pandas\n",
    "2. SciPy\n",
    "3. Numpy"
   ]
  },
  {
   "cell_type": "markdown",
   "id": "8bd62d4c-262f-4646-bcbe-0c1773babad3",
   "metadata": {},
   "source": [
    "| Data Science Tools |\n",
    "|:------|\n",
    "| Jupyter Notebook |\n",
    "| Anaconda |\n",
    "| Spyder |"
   ]
  },
  {
   "cell_type": "markdown",
   "id": "6e930bc4-f60f-4f95-9eaa-637bd0456994",
   "metadata": {
    "tags": []
   },
   "source": [
    "### Below are a few examples of evaluating arithmetic expressions in Python"
   ]
  },
  {
   "cell_type": "code",
   "execution_count": 1,
   "id": "70988a53-499b-4e13-b73c-4b1114065391",
   "metadata": {
    "tags": []
   },
   "outputs": [
    {
     "data": {
      "text/plain": [
       "17"
      ]
     },
     "execution_count": 1,
     "metadata": {},
     "output_type": "execute_result"
    }
   ],
   "source": [
    "#This a simple arithmetic expression to mutiply then add integers\n",
    "(3*4)+5"
   ]
  },
  {
   "cell_type": "code",
   "execution_count": 2,
   "id": "03771e8c-2153-4dbf-b62e-36f244996670",
   "metadata": {
    "tags": []
   },
   "outputs": [
    {
     "data": {
      "text/plain": [
       "3.3333333333333335"
      ]
     },
     "execution_count": 2,
     "metadata": {},
     "output_type": "execute_result"
    }
   ],
   "source": [
    "#This will convert 200 minutes to hours by diving by 60\n",
    "200/60"
   ]
  },
  {
   "cell_type": "markdown",
   "id": "8c5945b0-6e95-40c9-bf24-658e33946d9c",
   "metadata": {
    "tags": []
   },
   "source": [
    "## Author:\n",
    "Marcin"
   ]
  },
  {
   "cell_type": "code",
   "execution_count": null,
   "id": "ae92547a-da6b-48cc-ac84-b4a5dbad4a99",
   "metadata": {},
   "outputs": [],
   "source": []
  }
 ],
 "metadata": {
  "kernelspec": {
   "display_name": "Python",
   "language": "python",
   "name": "conda-env-python-py"
  },
  "language_info": {
   "codemirror_mode": {
    "name": "ipython",
    "version": 3
   },
   "file_extension": ".py",
   "mimetype": "text/x-python",
   "name": "python",
   "nbconvert_exporter": "python",
   "pygments_lexer": "ipython3",
   "version": "3.7.12"
  }
 },
 "nbformat": 4,
 "nbformat_minor": 5
}
